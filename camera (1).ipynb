{
  "nbformat": 4,
  "nbformat_minor": 0,
  "metadata": {
    "colab": {
      "provenance": []
    },
    "kernelspec": {
      "name": "python3",
      "display_name": "Python 3"
    },
    "language_info": {
      "name": "python"
    }
  },
  "cells": [
    {
      "cell_type": "code",
      "execution_count": null,
      "metadata": {
        "id": "GT3FuJL7b7vq"
      },
      "outputs": [],
      "source": [
        "import cv2\n",
        "from model import ERModel\n",
        "import numpy as np\n",
        "\n",
        "facec = cv2.CascadeClassifier('haarcascade_frontalface_default.xml')\n",
        "model = ERModel(\"model.json\", \"model_weights.h5\")\n",
        "font = cv2.FONT_HERSHEY_SIMPLEX\n",
        "\n",
        "class VideoCamera(object):\n",
        "    def __init__(self):\n",
        "        self.video = cv2.VideoCapture(0)\n",
        "\n",
        "    def __del__(self):\n",
        "        self.video.release()\n",
        "\n",
        "    def get_frame(self):\n",
        "        _, fr = self.video.read()\n",
        "        gray_fr = cv2.cvtColor(fr, cv2.COLOR_BGR2GRAY)\n",
        "        faces = facec.detectMultiScale(gray_fr, 1.3, 5)\n",
        "\n",
        "        for (x, y, w, h) in faces:\n",
        "            fc = gray_fr[y:y+h, x:x+w]\n",
        "\n",
        "            roi = cv2.resize(fc, (48, 48))\n",
        "            pred = model.predict_emotion(roi[np.newaxis, :, :, np.newaxis])\n",
        "\n",
        "            cv2.putText(fr, pred, (x, y), font, 1, (255, 255, 0), 2)\n",
        "            cv2.rectangle(fr,(x,y),(x+w,y+h),(255,0,0),2)\n",
        "\n",
        "        _, jpeg = cv2.imencode('.jpg', fr)\n",
        "        return jpeg.tobytes()\n"
      ]
    }
  ]
}